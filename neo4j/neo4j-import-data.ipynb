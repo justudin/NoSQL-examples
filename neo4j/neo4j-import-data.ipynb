{
 "cells": [
  {
   "cell_type": "markdown",
   "metadata": {},
   "source": [
    "## Exploring the data"
   ]
  },
  {
   "cell_type": "code",
   "execution_count": null,
   "metadata": {},
   "outputs": [],
   "source": [
    "import pandas as pd"
   ]
  },
  {
   "cell_type": "code",
   "execution_count": null,
   "metadata": {},
   "outputs": [],
   "source": [
    "results_csv_path = \"data/results.csv\"\n",
    "goalscorers_csv_path = \"data/goalscorers.csv\"\n",
    "shootouts_csv_path = \"data/shootouts.csv\"\n",
    "\n",
    "csv_paths = [results_csv_path, goalscorers_csv_path, shootouts_csv_path]"
   ]
  },
  {
   "cell_type": "code",
   "execution_count": null,
   "metadata": {},
   "outputs": [],
   "source": [
    "results_df = pd.read_csv(results_csv_path, parse_dates=['date'])\n",
    "goalscorers_df = pd.read_csv(goalscorers_csv_path, parse_dates=['date'])\n",
    "shootouts_df = pd.read_csv(shootouts_csv_path, parse_dates=['date'])"
   ]
  },
  {
   "cell_type": "code",
   "execution_count": null,
   "metadata": {},
   "outputs": [],
   "source": [
    "results_df.sample(5)"
   ]
  },
  {
   "cell_type": "code",
   "execution_count": null,
   "metadata": {},
   "outputs": [],
   "source": [
    "goalscorers_df.columns"
   ]
  },
  {
   "cell_type": "code",
   "execution_count": null,
   "metadata": {},
   "outputs": [],
   "source": [
    "shootouts_df.columns"
   ]
  },
  {
   "cell_type": "code",
   "execution_count": null,
   "metadata": {},
   "outputs": [],
   "source": [
    "results_df.columns"
   ]
  },
  {
   "cell_type": "code",
   "execution_count": null,
   "metadata": {},
   "outputs": [],
   "source": [
    "tournaments = results_df.tournament.unique().tolist()\n",
    "\n",
    "# Tournaments by FIFA\n",
    "FIFA_TOURNAMENTS = [t for t in tournaments if 'FIFA' in t]\n",
    "\n",
    "print(FIFA_TOURNAMENTS)\n"
   ]
  },
  {
   "cell_type": "code",
   "execution_count": null,
   "metadata": {},
   "outputs": [],
   "source": [
    "world_cup_matches = results_df[results_df['tournament'] == 'FIFA World Cup']\n",
    "\n",
    "# Unique world cups\n",
    "unique_world_cups = world_cup_matches['date'].dt.year.unique()\n",
    "print(unique_world_cups)"
   ]
  },
  {
   "cell_type": "code",
   "execution_count": null,
   "metadata": {},
   "outputs": [],
   "source": [
    "# Number of matches per world cup\n",
    "world_cup_matches['date'].dt.year.value_counts().sort_index()"
   ]
  },
  {
   "cell_type": "code",
   "execution_count": null,
   "metadata": {},
   "outputs": [],
   "source": [
    "goalscorers_df.columns"
   ]
  },
  {
   "cell_type": "code",
   "execution_count": null,
   "metadata": {},
   "outputs": [],
   "source": [
    "# Merge goal scorers with world cup matches\n",
    "goal_scorers_with_matches = world_cup_matches.merge(goalscorers_df, on=['date', 'home_team', 'away_team'])\n",
    "\n",
    "goal_scorers_with_matches.shape"
   ]
  },
  {
   "cell_type": "code",
   "execution_count": null,
   "metadata": {},
   "outputs": [],
   "source": [
    "goals_by_player = goal_scorers_with_matches[goal_scorers_with_matches['scorer'] == 'Miroslav Klose']\n",
    "\n",
    "goals_by_player.date.unique().shape"
   ]
  },
  {
   "cell_type": "code",
   "execution_count": null,
   "metadata": {},
   "outputs": [],
   "source": [
    "results_df.tournament.unique()"
   ]
  },
  {
   "cell_type": "code",
   "execution_count": null,
   "metadata": {},
   "outputs": [],
   "source": []
  },
  {
   "cell_type": "markdown",
   "metadata": {},
   "source": [
    "## Import the data to Neo4j"
   ]
  },
  {
   "cell_type": "code",
   "execution_count": null,
   "metadata": {},
   "outputs": [],
   "source": [
    "#install neo4j library\n",
    "!pip install neo4j"
   ]
  },
  {
   "cell_type": "code",
   "execution_count": null,
   "metadata": {},
   "outputs": [],
   "source": [
    "import pandas as pd\n",
    "import neo4j\n",
    "from dotenv import load_dotenv\n",
    "import os\n",
    "from tqdm import tqdm\n",
    "import logging"
   ]
  },
  {
   "cell_type": "markdown",
   "metadata": {},
   "source": [
    "Since there are more than 48k matches in our database, we define a `BATCH_SIZE` parameter to ingest data in smaller samples. \n",
    "\n",
    "Then, we define a function called `create_indexes` that accepts a session object:"
   ]
  },
  {
   "cell_type": "code",
   "execution_count": null,
   "metadata": {},
   "outputs": [],
   "source": [
    "# Set up logging\n",
    "logging.basicConfig(level=logging.INFO)\n",
    "logger = logging.getLogger(__name__)\n",
    "logger.info(\"Loading data...\")\n",
    "\n",
    "# Load data\n",
    "results_df = pd.read_csv(results_csv_path, parse_dates=[\"date\"])\n",
    "goalscorers_df = pd.read_csv(goalscorers_csv_path, parse_dates=[\"date\"])\n",
    "shootouts_df = pd.read_csv(shootouts_csv_path, parse_dates=[\"date\"])\n",
    "\n",
    "# Set up Neo4j connection\n",
    "uri = \"neo4j://localhost\"\n",
    "user = \"\"\n",
    "password = \"\"\n",
    "\n",
    "try:\n",
    "    driver = neo4j.GraphDatabase.driver(uri, auth=(user, password))\n",
    "    print(\"Connected to Neo4j instance successfully!\")\n",
    "except Exception as e:\n",
    "    print(f\"Failed to connect to Neo4j: {e}\")\n",
    "\n",
    "\n",
    "BATCH_SIZE = 5000\n"
   ]
  },
  {
   "cell_type": "markdown",
   "metadata": {},
   "source": [
    "Cypher indexes are database structures that improve query performance in Neo4j. They speed up the process of finding nodes or relationships based on specific properties. We need them for:\n",
    "\n",
    "1. Faster query execution\n",
    "2. Improved read performance on large datasets\n",
    "3. Efficient pattern matching\n",
    "4. Enforcing unique constraints\n",
    "5. Better scalability as the database grows\n",
    "\n",
    "In our case, indexes on team names, match IDs, and player names will help our queries run faster when searching for specific entities or performing joins across different node types. It is a best practice to create such indexes for your own databases.\n",
    "\n",
    "Next, we have the `ingest_matches` function. It is large, so let's break it down block by block:"
   ]
  },
  {
   "cell_type": "code",
   "execution_count": null,
   "metadata": {},
   "outputs": [],
   "source": [
    "def create_indexes(session):\n",
    "    indexes = [\n",
    "        \"CREATE INDEX IF NOT EXISTS FOR (t:Team) ON (t.name)\",\n",
    "        \"CREATE INDEX IF NOT EXISTS FOR (m:Match) ON (m.id)\",\n",
    "        \"CREATE INDEX IF NOT EXISTS FOR (p:Player) ON (p.name)\",\n",
    "        \"CREATE INDEX IF NOT EXISTS FOR (t:Tournament) ON (t.name)\",\n",
    "        \"CREATE INDEX IF NOT EXISTS FOR (c:City) ON (c.name)\",\n",
    "        \"CREATE INDEX IF NOT EXISTS FOR (c:Country) ON (c.name)\",\n",
    "    ]\n",
    "    for index in indexes:\n",
    "        session.run(index)\n",
    "    print(\"Indexes created.\")"
   ]
  },
  {
   "cell_type": "markdown",
   "metadata": {},
   "source": [
    "`ingest_goals` and `ingest_shootouts` functions use similar constructs. However, `ingest_goals` have some additional error and missing value handling. \n",
    "\n",
    "At the end of the script, we have the `main()` function that executes all our ingestion functions with a session object:"
   ]
  },
  {
   "cell_type": "code",
   "execution_count": null,
   "metadata": {},
   "outputs": [],
   "source": [
    "def ingest_matches(session, df):\n",
    "    query = \"\"\"\n",
    "    UNWIND $batch AS row\n",
    "    MERGE (m:Match {id: row.id})\n",
    "    SET m.date = date(row.date), m.home_score = row.home_score, m.away_score = row.away_score, m.neutral = row.neutral\n",
    "    MERGE (home:Team {name: row.home_team})\n",
    "    MERGE (away:Team {name: row.away_team})\n",
    "    MERGE (t:Tournament {name: row.tournament})\n",
    "    MERGE (c:City {name: row.city})\n",
    "    MERGE (country:Country {name: row.country})\n",
    "    MERGE (home)-[:PLAYED_HOME]->(m)\n",
    "    MERGE (away)-[:PLAYED_AWAY]->(m)\n",
    "    MERGE (m)-[:PART_OF]->(t)\n",
    "    MERGE (m)-[:PLAYED_IN]->(c)\n",
    "    MERGE (c)-[:LOCATED_IN]->(country)\n",
    "    WITH m, home, away, row.home_score AS hs, row.away_score AS as\n",
    "    FOREACH(_ IN CASE WHEN hs > as THEN [1] ELSE [] END |\n",
    "        MERGE (home)-[:WON]->(m)\n",
    "        MERGE (away)-[:LOST]->(m)\n",
    "    )\n",
    "    FOREACH(_ IN CASE WHEN hs < as THEN [1] ELSE [] END |\n",
    "        MERGE (away)-[:WON]->(m)\n",
    "        MERGE (home)-[:LOST]->(m)\n",
    "    )\n",
    "    FOREACH(_ IN CASE WHEN hs = as THEN [1] ELSE [] END |\n",
    "        MERGE (home)-[:DREW]->(m)\n",
    "        MERGE (away)-[:DREW]->(m)\n",
    "    )\n",
    "    \"\"\"\n",
    "    for i in tqdm(range(0, len(df), BATCH_SIZE), desc=\"Ingesting matches\"):\n",
    "        batch = df.iloc[i : i + BATCH_SIZE]\n",
    "        data = []\n",
    "        for _, row in batch.iterrows():\n",
    "            match_data = {\n",
    "                \"id\": f\"{row['date']}_{row['home_team']}_{row['away_team']}\",\n",
    "                \"date\": row[\"date\"].strftime(\"%Y-%m-%d\"),\n",
    "                \"home_score\": int(row[\"home_score\"]),\n",
    "                \"away_score\": int(row[\"away_score\"]),\n",
    "                \"neutral\": bool(row[\"neutral\"]),\n",
    "                \"home_team\": row[\"home_team\"],\n",
    "                \"away_team\": row[\"away_team\"],\n",
    "                \"tournament\": row[\"tournament\"],\n",
    "                \"city\": row[\"city\"],\n",
    "                \"country\": row[\"country\"],\n",
    "            }\n",
    "            data.append(match_data)\n",
    "        session.run(query, batch=data)\n",
    "\n",
    "\n",
    "def ingest_goals(session, df):\n",
    "    query = \"\"\"\n",
    "    UNWIND $batch AS row\n",
    "    MATCH (m:Match {id: row.id})\n",
    "    MERGE (p:Player {name: row.scorer})\n",
    "    MERGE (t:Team {name: row.team})\n",
    "    CREATE (p)-[s:SCORED_FOR]->(t)\n",
    "    SET s.own_goal = row.own_goal,\n",
    "        s.penalty = row.penalty\n",
    "    FOREACH(_ IN CASE WHEN row.minute IS NOT NULL THEN [1] ELSE [] END |\n",
    "        SET s.minute = row.minute\n",
    "    )\n",
    "    CREATE (p)-[r:SCORED_IN]->(m)\n",
    "    SET r.own_goal = row.own_goal,\n",
    "        r.penalty = row.penalty\n",
    "    FOREACH(_ IN CASE WHEN row.minute IS NOT NULL THEN [1] ELSE [] END |\n",
    "        SET r.minute = row.minute\n",
    "    )\n",
    "    \"\"\"\n",
    "    for i in tqdm(range(0, len(df), BATCH_SIZE), desc=\"Ingesting goals\"):\n",
    "        batch = df.iloc[i : i + BATCH_SIZE]\n",
    "        data = []\n",
    "        for _, row in batch.iterrows():\n",
    "            try:\n",
    "                goal_data = {\n",
    "                    \"id\": f\"{row['date']}_{row['home_team']}_{row['away_team']}\",\n",
    "                    \"scorer\": (\n",
    "                        row[\"scorer\"]\n",
    "                        if not pd.isna(row[\"scorer\"])\n",
    "                        else \"Unnamed Player\"\n",
    "                    ),\n",
    "                    \"team\": row[\"team\"],\n",
    "                    \"minute\": (\n",
    "                        float(row[\"minute\"]) if pd.notnull(row[\"minute\"]) else None\n",
    "                    ),\n",
    "                    \"own_goal\": bool(row[\"own_goal\"]),\n",
    "                    \"penalty\": bool(row[\"penalty\"]),\n",
    "                }\n",
    "                data.append(goal_data)\n",
    "            except Exception as e:\n",
    "                logger.error(f\"Error processing row: {row}\")\n",
    "                logger.error(f\"Error details: {str(e)}\")\n",
    "\n",
    "        if data:\n",
    "            try:\n",
    "                session.run(query, batch=data)\n",
    "            except Exception as e:\n",
    "                logger.error(f\"Error executing batch: {str(e)}\")\n",
    "                logger.error(f\"Problematic batch: {data}\")\n",
    "\n",
    "\n",
    "def ingest_shootouts(session, df):\n",
    "    query = \"\"\"\n",
    "    UNWIND $batch AS row\n",
    "    MATCH (m:Match {id: row.id})\n",
    "    MATCH (w:Team {name: row.winner})\n",
    "    MERGE (m)-[s:HAD_SHOOTOUT]->(w)\n",
    "    SET s.winner = row.winner\n",
    "    FOREACH(_ IN CASE WHEN row.first_shooter IS NOT NULL THEN [1] ELSE [] END |\n",
    "        SET s.first_shooter = row.first_shooter\n",
    "    )\n",
    "    \"\"\"\n",
    "    for i in tqdm(range(0, len(df), BATCH_SIZE), desc=\"Ingesting shootouts\"):\n",
    "        batch = df.iloc[i : i + BATCH_SIZE]\n",
    "        data = []\n",
    "        for _, row in batch.iterrows():\n",
    "            shootout_data = {\n",
    "                \"id\": f\"{row['date']}_{row['home_team']}_{row['away_team']}\",\n",
    "                \"winner\": row[\"winner\"],\n",
    "                \"first_shooter\": (\n",
    "                    row[\"first_shooter\"] if pd.notnull(row[\"first_shooter\"]) else None\n",
    "                ),\n",
    "            }\n",
    "            data.append(shootout_data)\n",
    "        session.run(query, batch=data)"
   ]
  },
  {
   "cell_type": "markdown",
   "metadata": {},
   "source": [
    "### Run to import all data"
   ]
  },
  {
   "cell_type": "code",
   "execution_count": null,
   "metadata": {},
   "outputs": [],
   "source": [
    "def main():\n",
    "    with driver.session() as session:\n",
    "        create_indexes(session)\n",
    "        ingest_matches(session, results_df)\n",
    "        ingest_goals(session, goalscorers_df)\n",
    "        ingest_shootouts(session, shootouts_df)\n",
    "\n",
    "    print(\"Data ingestion completed!\")\n",
    "    driver.close()\n",
    "\n",
    "\n",
    "if __name__ == \"__main__\":\n",
    "    main()"
   ]
  },
  {
   "cell_type": "code",
   "execution_count": null,
   "metadata": {},
   "outputs": [],
   "source": []
  }
 ],
 "metadata": {
  "kernelspec": {
   "display_name": "Python 3 (ipykernel)",
   "language": "python",
   "name": "python3"
  },
  "language_info": {
   "codemirror_mode": {
    "name": "ipython",
    "version": 3
   },
   "file_extension": ".py",
   "mimetype": "text/x-python",
   "name": "python",
   "nbconvert_exporter": "python",
   "pygments_lexer": "ipython3",
   "version": "3.12.4"
  }
 },
 "nbformat": 4,
 "nbformat_minor": 4
}
