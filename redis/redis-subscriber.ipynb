{
 "cells": [
  {
   "cell_type": "markdown",
   "id": "68749b4e-1872-4090-a64d-092170220621",
   "metadata": {},
   "source": [
    "## Pub-Sub Example"
   ]
  },
  {
   "cell_type": "code",
   "execution_count": null,
   "id": "acd19c0d-a162-4e96-a7bc-6158591aecda",
   "metadata": {},
   "outputs": [],
   "source": [
    "# Subscriber\n",
    "\n",
    "import redis\n",
    "subscriber = redis.Redis(host = 'localhost', port = 6379)\n",
    "channel = 'bigdataclass'\n",
    "p = subscriber.pubsub()\n",
    "p.subscribe(channel)\n",
    "while True:\n",
    "    message = p.get_message()\n",
    "    if message and not message['data'] == 1:\n",
    "        message = message['data'].decode('utf-8')\n",
    "        print(message)"
   ]
  },
  {
   "cell_type": "code",
   "execution_count": null,
   "id": "5e53411d-7894-4c03-96f4-d8df10e8f7b6",
   "metadata": {},
   "outputs": [],
   "source": []
  }
 ],
 "metadata": {
  "kernelspec": {
   "display_name": "Python 3 (ipykernel)",
   "language": "python",
   "name": "python3"
  },
  "language_info": {
   "codemirror_mode": {
    "name": "ipython",
    "version": 3
   },
   "file_extension": ".py",
   "mimetype": "text/x-python",
   "name": "python",
   "nbconvert_exporter": "python",
   "pygments_lexer": "ipython3",
   "version": "3.9.7"
  }
 },
 "nbformat": 4,
 "nbformat_minor": 5
}
